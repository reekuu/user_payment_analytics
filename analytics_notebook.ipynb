{
  "cells": [
    {
      "cell_type": "markdown",
      "id": "068fe20d",
      "metadata": {
        "id": "068fe20d"
      },
      "source": [
        "# Задание по генерации и обработке данных"
      ]
    },
    {
      "cell_type": "markdown",
      "id": "423b8913",
      "metadata": {
        "id": "423b8913"
      },
      "source": [
        "## 1) Сгенерить пайтоном датасет, в котором были бы следующие поля:\n",
        "\n",
        "- `userid` — 100 уникальных айди пользователей\n",
        "\n",
        "- `payment_amount` — сумма платежа (рандомное значение), от 5 до 50 платежей у каждого пользователя\n",
        "\n",
        "- `payment_date` — дата платежа, диапазон дат среди всех пользователей не менее 3-х, но не более 5-ти лет.\n",
        "\n",
        "attn.: У каждого пользователя должны быть (не менее 3-х) платежи в разные месяца."
      ]
    },
    {
      "cell_type": "markdown",
      "id": "7a239d36",
      "metadata": {
        "id": "7a239d36"
      },
      "source": [
        "Список зависимостей:\n",
        "```bash\n",
        "Python==3.8.8\n",
        "IPython==7.22.0\n",
        "Faker==15.1.1\n",
        "matplotlib==3.3.4\n",
        "pandas==1.2.4\n",
        "seaborn==0.11.1\n",
        "```"
      ]
    },
    {
      "cell_type": "markdown",
      "id": "b8b31f83",
      "metadata": {
        "id": "b8b31f83"
      },
      "source": [
        "Импортируем библиотеки."
      ]
    },
    {
      "cell_type": "code",
      "execution_count": null,
      "id": "9aaee92d",
      "metadata": {
        "id": "9aaee92d"
      },
      "outputs": [],
      "source": [
        "import random\n",
        "\n",
        "from IPython import display as pic_display\n",
        "from faker import Faker\n",
        "import matplotlib.pyplot as plt\n",
        "import pandas as pd\n",
        "import seaborn as sns\n",
        "from uuid import uuid4\n",
        "\n",
        "fake = Faker()\n",
        "sns.set_style(\"whitegrid\")"
      ]
    },
    {
      "cell_type": "markdown",
      "id": "00bd1435",
      "metadata": {
        "id": "00bd1435"
      },
      "source": [
        "Зададим параметры генерации."
      ]
    },
    {
      "cell_type": "code",
      "execution_count": null,
      "id": "7e0a214b",
      "metadata": {
        "id": "7e0a214b"
      },
      "outputs": [],
      "source": [
        "num_of_user_ids = 100\n",
        "num_of_payments_range = (5, 50)\n",
        "payments_amount_range = (1, 100)\n",
        "start_date, end_date = '-5y', 'now'"
      ]
    },
    {
      "cell_type": "markdown",
      "id": "754f1d8b",
      "metadata": {
        "id": "754f1d8b"
      },
      "source": [
        "Сгенерируем данные и упакуем в датасет."
      ]
    },
    {
      "cell_type": "code",
      "execution_count": null,
      "id": "a4b7ef07",
      "metadata": {
        "id": "a4b7ef07"
      },
      "outputs": [],
      "source": [
        "df_dict = dict(\n",
        "    userid=[],\n",
        "    payment_amount=[],\n",
        "    payment_date=[],\n",
        ")\n",
        "\n",
        "for userid in [str(uuid4()) for _ in range(num_of_user_ids)]:\n",
        "    for _ in range(random.randint(*num_of_payments_range)):\n",
        "        df_dict['userid'].append(userid)\n",
        "        df_dict['payment_amount'].append(random.randint(*payments_amount_range))\n",
        "        df_dict['payment_date'].append(fake.date_time_between(start_date=start_date, end_date=end_date))\n",
        "\n",
        "df = pd.DataFrame.from_dict(df_dict).sort_values(by='payment_date').reset_index(drop=True)"
      ]
    },
    {
      "cell_type": "code",
      "execution_count": null,
      "id": "76f46070",
      "metadata": {
        "id": "76f46070"
      },
      "outputs": [],
      "source": [
        "# attn.: для воспроизведения моего результата скачай датасет и раскомментируй этот блок\n",
        "# df = pd.read_csv('payment_dataset.csv')\n",
        "# df['payment_date'] = pd.to_datetime(df['payment_date'])"
      ]
    },
    {
      "cell_type": "markdown",
      "id": "ed7d6544",
      "metadata": {
        "id": "ed7d6544"
      },
      "source": [
        "Проверим результат."
      ]
    },
    {
      "cell_type": "code",
      "execution_count": null,
      "id": "2bf54291",
      "metadata": {
        "id": "2bf54291",
        "outputId": "9b09e82d-26e3-4f12-c721-4eb98528ebc9"
      },
      "outputs": [
        {
          "name": "stdout",
          "output_type": "stream",
          "text": [
            "Уникальных айди пользователей: 100 \n",
            "\n",
            "Платежей на пользователя (min): 6\n",
            "Платежей на пользователя (max): 50 \n",
            "\n",
            "Дата платежа (min): 2017-10-18\n",
            "Дата платежа (max): 2022-10-16 \n",
            "\n",
            "Пример платежей одного пользователя:\n"
          ]
        },
        {
          "data": {
            "text/html": [
              "<div>\n",
              "<style scoped>\n",
              "    .dataframe tbody tr th:only-of-type {\n",
              "        vertical-align: middle;\n",
              "    }\n",
              "\n",
              "    .dataframe tbody tr th {\n",
              "        vertical-align: top;\n",
              "    }\n",
              "\n",
              "    .dataframe thead th {\n",
              "        text-align: right;\n",
              "    }\n",
              "</style>\n",
              "<table border=\"1\" class=\"dataframe\">\n",
              "  <thead>\n",
              "    <tr style=\"text-align: right;\">\n",
              "      <th></th>\n",
              "      <th>userid</th>\n",
              "      <th>payment_amount</th>\n",
              "      <th>payment_date</th>\n",
              "    </tr>\n",
              "  </thead>\n",
              "  <tbody>\n",
              "    <tr>\n",
              "      <th>358</th>\n",
              "      <td>1e62e0d2-a025-4e4a-9d57-c8068009bfd9</td>\n",
              "      <td>95</td>\n",
              "      <td>2018-06-23 12:20:39</td>\n",
              "    </tr>\n",
              "    <tr>\n",
              "      <th>655</th>\n",
              "      <td>1e62e0d2-a025-4e4a-9d57-c8068009bfd9</td>\n",
              "      <td>54</td>\n",
              "      <td>2019-01-02 10:35:25</td>\n",
              "    </tr>\n",
              "    <tr>\n",
              "      <th>662</th>\n",
              "      <td>1e62e0d2-a025-4e4a-9d57-c8068009bfd9</td>\n",
              "      <td>46</td>\n",
              "      <td>2019-01-08 10:22:29</td>\n",
              "    </tr>\n",
              "    <tr>\n",
              "      <th>1139</th>\n",
              "      <td>1e62e0d2-a025-4e4a-9d57-c8068009bfd9</td>\n",
              "      <td>96</td>\n",
              "      <td>2019-12-18 00:09:57</td>\n",
              "    </tr>\n",
              "    <tr>\n",
              "      <th>1997</th>\n",
              "      <td>1e62e0d2-a025-4e4a-9d57-c8068009bfd9</td>\n",
              "      <td>81</td>\n",
              "      <td>2021-07-01 17:46:42</td>\n",
              "    </tr>\n",
              "    <tr>\n",
              "      <th>2206</th>\n",
              "      <td>1e62e0d2-a025-4e4a-9d57-c8068009bfd9</td>\n",
              "      <td>46</td>\n",
              "      <td>2021-11-04 16:44:12</td>\n",
              "    </tr>\n",
              "  </tbody>\n",
              "</table>\n",
              "</div>"
            ],
            "text/plain": [
              "                                    userid  payment_amount        payment_date\n",
              "358   1e62e0d2-a025-4e4a-9d57-c8068009bfd9              95 2018-06-23 12:20:39\n",
              "655   1e62e0d2-a025-4e4a-9d57-c8068009bfd9              54 2019-01-02 10:35:25\n",
              "662   1e62e0d2-a025-4e4a-9d57-c8068009bfd9              46 2019-01-08 10:22:29\n",
              "1139  1e62e0d2-a025-4e4a-9d57-c8068009bfd9              96 2019-12-18 00:09:57\n",
              "1997  1e62e0d2-a025-4e4a-9d57-c8068009bfd9              81 2021-07-01 17:46:42\n",
              "2206  1e62e0d2-a025-4e4a-9d57-c8068009bfd9              46 2021-11-04 16:44:12"
            ]
          },
          "metadata": {},
          "output_type": "display_data"
        },
        {
          "name": "stdout",
          "output_type": "stream",
          "text": [
            "Всего платежей: 2715\n"
          ]
        }
      ],
      "source": [
        "print('Уникальных айди пользователей:', df.userid.nunique(), '\\n')\n",
        "print('Платежей на пользователя (min):', df.groupby('userid').payment_date.count().min())\n",
        "print('Платежей на пользователя (max):', df.groupby('userid').payment_date.count().max(), '\\n')\n",
        "print('Дата платежа (min):', df.payment_date.min().date())\n",
        "print('Дата платежа (max):', df.payment_date.max().date(), '\\n')\n",
        "print('Пример платежей одного пользователя:')\n",
        "display(df[df.userid.isin(df.userid.value_counts(ascending=True).head(1).index)])\n",
        "print('Всего платежей:', df.shape[0])"
      ]
    },
    {
      "cell_type": "markdown",
      "id": "97abf64e",
      "metadata": {
        "id": "97abf64e"
      },
      "source": [
        "Проверим, что у каждого пользователя не менее 3-х платежей в разные месяцы."
      ]
    },
    {
      "cell_type": "code",
      "execution_count": null,
      "id": "9e4a3d61",
      "metadata": {
        "id": "9e4a3d61",
        "outputId": "f7dab287-a44d-4bf6-9f28-c61afa8149e4"
      },
      "outputs": [
        {
          "name": "stdout",
          "output_type": "stream",
          "text": [
            "Минимум 5 платежей в разные месяцы:\n"
          ]
        },
        {
          "data": {
            "text/html": [
              "<div>\n",
              "<style scoped>\n",
              "    .dataframe tbody tr th:only-of-type {\n",
              "        vertical-align: middle;\n",
              "    }\n",
              "\n",
              "    .dataframe tbody tr th {\n",
              "        vertical-align: top;\n",
              "    }\n",
              "\n",
              "    .dataframe thead th {\n",
              "        text-align: right;\n",
              "    }\n",
              "</style>\n",
              "<table border=\"1\" class=\"dataframe\">\n",
              "  <thead>\n",
              "    <tr style=\"text-align: right;\">\n",
              "      <th></th>\n",
              "      <th>yr_month</th>\n",
              "    </tr>\n",
              "    <tr>\n",
              "      <th>userid</th>\n",
              "      <th></th>\n",
              "    </tr>\n",
              "  </thead>\n",
              "  <tbody>\n",
              "    <tr>\n",
              "      <th>1e62e0d2-a025-4e4a-9d57-c8068009bfd9</th>\n",
              "      <td>5</td>\n",
              "    </tr>\n",
              "    <tr>\n",
              "      <th>38b7aa6c-1235-482a-bca8-956f98c0dca6</th>\n",
              "      <td>6</td>\n",
              "    </tr>\n",
              "    <tr>\n",
              "      <th>e44e5d7b-e127-49c6-bbc1-348d0dbd9088</th>\n",
              "      <td>6</td>\n",
              "    </tr>\n",
              "    <tr>\n",
              "      <th>96713f89-fc21-4107-a8c3-bb42d0f5ffd4</th>\n",
              "      <td>7</td>\n",
              "    </tr>\n",
              "    <tr>\n",
              "      <th>bc4f07d7-a707-419f-b6aa-a83a61cadf75</th>\n",
              "      <td>7</td>\n",
              "    </tr>\n",
              "  </tbody>\n",
              "</table>\n",
              "</div>"
            ],
            "text/plain": [
              "                                      yr_month\n",
              "userid                                        \n",
              "1e62e0d2-a025-4e4a-9d57-c8068009bfd9         5\n",
              "38b7aa6c-1235-482a-bca8-956f98c0dca6         6\n",
              "e44e5d7b-e127-49c6-bbc1-348d0dbd9088         6\n",
              "96713f89-fc21-4107-a8c3-bb42d0f5ffd4         7\n",
              "bc4f07d7-a707-419f-b6aa-a83a61cadf75         7"
            ]
          },
          "metadata": {},
          "output_type": "display_data"
        }
      ],
      "source": [
        "# Посчитаем признак год-месяц, позже он пригодится для графиков\n",
        "df['yr_month'] = df['payment_date'].dt.strftime(\"%Y-%m\")\n",
        "examination = df.groupby('userid').yr_month.apply(set).apply(len).sort_values()\n",
        "\n",
        "print(f'Минимум {examination.min()} платежей в разные месяцы:')\n",
        "display(examination.head().to_frame())"
      ]
    },
    {
      "cell_type": "markdown",
      "id": "ae0c243e",
      "metadata": {
        "id": "ae0c243e"
      },
      "source": [
        "Сохраним готовый датасет для PostgreSQL."
      ]
    },
    {
      "cell_type": "code",
      "execution_count": null,
      "id": "1d9716f8",
      "metadata": {
        "id": "1d9716f8"
      },
      "outputs": [],
      "source": [
        "dataset_path = 'C:\\\\dataset\\\\payment_dataset.csv'\n",
        "df.to_csv(dataset_path, columns=['userid', 'payment_amount', 'payment_date'], index=False)"
      ]
    },
    {
      "cell_type": "markdown",
      "id": "f530c53b",
      "metadata": {
        "id": "f530c53b"
      },
      "source": [
        "## 2) Пайтоном загрузить сгенерированный датасет в таблицу базы данных (postgresql)"
      ]
    },
    {
      "cell_type": "markdown",
      "id": "23a7c7be",
      "metadata": {
        "id": "23a7c7be"
      },
      "source": [
        "Напишем коннектор."
      ]
    },
    {
      "cell_type": "code",
      "execution_count": null,
      "id": "7a9a2b4d",
      "metadata": {
        "id": "7a9a2b4d"
      },
      "outputs": [],
      "source": [
        "import psycopg2\n",
        "\n",
        "\n",
        "class Connector:\n",
        "\n",
        "    def __init__(self):\n",
        "        self.params = dict(\n",
        "            dbname=\"payments\",\n",
        "            user=\"postgres\",\n",
        "            password=\"postgres\",\n",
        "            host='127.0.0.1',\n",
        "            port=5432,\n",
        "        )\n",
        "\n",
        "    def send(self, query):\n",
        "        try:\n",
        "            # подключиться к серверу PostgreSQL и создать курсор\n",
        "            print('Connecting to the PostgreSQL database')\n",
        "            conn = psycopg2.connect(**self.params)\n",
        "            cur = conn.cursor()\n",
        "\n",
        "            # выполнить запрос и закрыть подключение\n",
        "            print('Executing query')\n",
        "            cur.execute(query)\n",
        "            conn.commit()\n",
        "            cur.close()\n",
        "\n",
        "        except (Exception, psycopg2.DatabaseError) as error:\n",
        "            print(error)\n",
        "\n",
        "        finally:\n",
        "            if conn:\n",
        "                conn.close()\n",
        "                print('Database connection closed')\n",
        "\n",
        "    def read(self, query):\n",
        "        conn = psycopg2.connect(**self.params)\n",
        "        df = pd.read_sql(query, conn)\n",
        "        conn.close()\n",
        "        return df\n",
        "\n",
        "\n",
        "my_psql = Connector()"
      ]
    },
    {
      "cell_type": "markdown",
      "id": "b5f0a2fb",
      "metadata": {
        "id": "b5f0a2fb"
      },
      "source": [
        "Создадим таблицу `payments_data`."
      ]
    },
    {
      "cell_type": "code",
      "execution_count": null,
      "id": "11937876",
      "metadata": {
        "id": "11937876",
        "outputId": "07822c91-2ec7-4d64-d496-23f4ed3c1762"
      },
      "outputs": [
        {
          "name": "stdout",
          "output_type": "stream",
          "text": [
            "Connecting to the PostgreSQL database\n",
            "Executing query\n",
            "Database connection closed\n"
          ]
        }
      ],
      "source": [
        "query = '''\n",
        "        DROP TABLE IF EXISTS payments_data CASCADE;\n",
        "        CREATE TABLE payments_data\n",
        "          (\n",
        "             userid         VARCHAR(36) NOT NULL,\n",
        "             payment_amount SMALLINT NOT NULL,\n",
        "             payment_date   TIMESTAMP NOT NULL\n",
        "          );\n",
        "        '''\n",
        "my_psql.send(query)"
      ]
    },
    {
      "cell_type": "markdown",
      "id": "457e2f69",
      "metadata": {
        "id": "457e2f69"
      },
      "source": [
        "Загрузим датасет в таблицу `payments_data`."
      ]
    },
    {
      "cell_type": "code",
      "execution_count": null,
      "id": "0e1596d4",
      "metadata": {
        "id": "0e1596d4",
        "outputId": "e1432336-40b5-4825-81da-1afd8ebd617f"
      },
      "outputs": [
        {
          "name": "stdout",
          "output_type": "stream",
          "text": [
            "Connecting to the PostgreSQL database\n",
            "Executing query\n",
            "Database connection closed\n"
          ]
        }
      ],
      "source": [
        "query = f'''\n",
        "        COPY payments_data\n",
        "          (\n",
        "             userid,\n",
        "             payment_amount,\n",
        "             payment_date\n",
        "          )\n",
        "        FROM '{dataset_path}' DELIMITER ',' CSV HEADER;\n",
        "        '''\n",
        "my_psql.send(query)"
      ]
    },
    {
      "cell_type": "markdown",
      "id": "91764e64",
      "metadata": {
        "id": "91764e64"
      },
      "source": [
        "Проверим результат."
      ]
    },
    {
      "cell_type": "code",
      "execution_count": null,
      "id": "372b6b39",
      "metadata": {
        "id": "372b6b39",
        "outputId": "08452825-6922-4e04-d732-43777b62f34c"
      },
      "outputs": [
        {
          "data": {
            "text/html": [
              "<div>\n",
              "<style scoped>\n",
              "    .dataframe tbody tr th:only-of-type {\n",
              "        vertical-align: middle;\n",
              "    }\n",
              "\n",
              "    .dataframe tbody tr th {\n",
              "        vertical-align: top;\n",
              "    }\n",
              "\n",
              "    .dataframe thead th {\n",
              "        text-align: right;\n",
              "    }\n",
              "</style>\n",
              "<table border=\"1\" class=\"dataframe\">\n",
              "  <thead>\n",
              "    <tr style=\"text-align: right;\">\n",
              "      <th></th>\n",
              "      <th>transactions</th>\n",
              "      <th>unique_users</th>\n",
              "      <th>first_payment_date</th>\n",
              "      <th>last_payment_date</th>\n",
              "    </tr>\n",
              "  </thead>\n",
              "  <tbody>\n",
              "    <tr>\n",
              "      <th>0</th>\n",
              "      <td>2715</td>\n",
              "      <td>100</td>\n",
              "      <td>2017-10-18 05:29:28</td>\n",
              "      <td>2022-10-16 14:51:28</td>\n",
              "    </tr>\n",
              "  </tbody>\n",
              "</table>\n",
              "</div>"
            ],
            "text/plain": [
              "   transactions  unique_users  first_payment_date   last_payment_date\n",
              "0          2715           100 2017-10-18 05:29:28 2022-10-16 14:51:28"
            ]
          },
          "metadata": {},
          "output_type": "display_data"
        }
      ],
      "source": [
        "query = '''\n",
        "        SELECT Count(userid)          AS transactions,\n",
        "               Count(DISTINCT userid) AS unique_users,\n",
        "               Min(payment_date)      AS first_payment_date,\n",
        "               Max(payment_date)      AS last_payment_date\n",
        "        FROM   payments_data\n",
        "        '''\n",
        "\n",
        "display(my_psql.read(query))"
      ]
    },
    {
      "cell_type": "markdown",
      "id": "d1f42212",
      "metadata": {
        "id": "d1f42212"
      },
      "source": [
        "## 3) Создать вью которая бы выводила поля:\n",
        "- month, userid, is_paid, number_of_not_paid\n",
        "    - month — последовательно месяца с момента первого платежа для пользователя до текущего\n",
        "    - userid — айди пользователя\n",
        "    - is_paid — платил ли пользователь в этот месяц\n",
        "    - number_of_not_paid — количество месяцев прошедших с последнего платежа, если платящий, то 0"
      ]
    },
    {
      "cell_type": "markdown",
      "id": "64068d18",
      "metadata": {
        "id": "64068d18"
      },
      "source": [
        "Создадим представление `monthly_view`."
      ]
    },
    {
      "cell_type": "code",
      "execution_count": null,
      "id": "4bab29c3",
      "metadata": {
        "id": "4bab29c3",
        "outputId": "786674dc-402b-4e56-a0e4-70d902093cc3"
      },
      "outputs": [
        {
          "name": "stdout",
          "output_type": "stream",
          "text": [
            "Connecting to the PostgreSQL database\n",
            "Executing query\n",
            "Database connection closed\n"
          ]
        }
      ],
      "source": [
        "query = '''\n",
        "CREATE VIEW public.monthly_view AS\n",
        "\n",
        "-- Добавляем порядковый номер платежа\n",
        "WITH added_row_number AS (\n",
        "\n",
        "        SELECT    userid,\n",
        "                  Date_trunc('month', payment_date),\n",
        "                  Row_number() OVER(partition BY userid ORDER BY payment_date ASC)\n",
        "        FROM      payments_data ),\n",
        "\n",
        "-- Генерируем календарь от первой даты в данных до текущей\n",
        "calendar AS (\n",
        "\n",
        "        SELECT    Generate_series(Min(date_trunc), CURRENT_DATE, '1 month')\n",
        "        FROM      added_row_number ),\n",
        "\n",
        "-- Объединяем месяцы с платежами и без платежей в одну таблицу\n",
        "userid_gen_series AS (\n",
        "\n",
        "        SELECT    userid,\n",
        "                  generate_series\n",
        "        FROM     (SELECT *\n",
        "                  FROM   added_row_number\n",
        "                  WHERE  row_number = 1) AS u,\n",
        "        LATERAL  (SELECT *\n",
        "                  FROM   calendar AS c\n",
        "                  WHERE  c.generate_series >= u.date_trunc) AS x ),\n",
        "\n",
        "-- Считаем признак \"платил ли клиент\"\n",
        "userid_is_paid AS (\n",
        "\n",
        "        SELECT    u.generate_series,\n",
        "                  u.userid,\n",
        "                 (CASE WHEN a.userid IS NULL THEN 0 ELSE 1 END) AS is_paid,\n",
        "                  Count(a.rn) OVER (partition BY u.userid ORDER BY u.generate_series, a.rn) AS rn_group\n",
        "        FROM      userid_gen_series AS u\n",
        "        LEFT JOIN(SELECT userid,\n",
        "                         date_trunc,\n",
        "                         row_number AS rn\n",
        "                  FROM   added_row_number) AS a\n",
        "        ON        u.generate_series = a.date_trunc\n",
        "        AND       u.userid = a.userid )\n",
        "\n",
        "-- Финальный датасет с признаком \"сколько месяцев прошло с последней оплаты\"\n",
        "\n",
        "                  -- DISTINCT дропает случаи нескольких платежей в одном месяце\n",
        "        SELECT    DISTINCT to_char(generate_series, 'YYYY\"-\"MM') AS month,\n",
        "                  userid,\n",
        "                  is_paid,\n",
        "                  Row_number() OVER(partition BY userid, rn_group) - 1 AS number_of_not_paid\n",
        "        FROM      userid_is_paid\n",
        "        ORDER BY  month;\n",
        "\n",
        "ALTER TABLE public.monthly_view\n",
        "    OWNER TO postgres;\n",
        "\n",
        "'''\n",
        "\n",
        "my_psql.send(query)"
      ]
    },
    {
      "cell_type": "markdown",
      "id": "7fbb02b2",
      "metadata": {
        "id": "7fbb02b2"
      },
      "source": [
        "Проверим результат."
      ]
    },
    {
      "cell_type": "code",
      "execution_count": null,
      "id": "0de8790e",
      "metadata": {
        "id": "0de8790e",
        "outputId": "d76b72c1-873f-4995-f19e-906487f3f236"
      },
      "outputs": [
        {
          "data": {
            "text/html": [
              "<div>\n",
              "<style scoped>\n",
              "    .dataframe tbody tr th:only-of-type {\n",
              "        vertical-align: middle;\n",
              "    }\n",
              "\n",
              "    .dataframe tbody tr th {\n",
              "        vertical-align: top;\n",
              "    }\n",
              "\n",
              "    .dataframe thead th {\n",
              "        text-align: right;\n",
              "    }\n",
              "</style>\n",
              "<table border=\"1\" class=\"dataframe\">\n",
              "  <thead>\n",
              "    <tr style=\"text-align: right;\">\n",
              "      <th></th>\n",
              "      <th>month</th>\n",
              "      <th>userid</th>\n",
              "      <th>is_paid</th>\n",
              "      <th>number_of_not_paid</th>\n",
              "    </tr>\n",
              "  </thead>\n",
              "  <tbody>\n",
              "    <tr>\n",
              "      <th>0</th>\n",
              "      <td>2018-06</td>\n",
              "      <td>1e62e0d2-a025-4e4a-9d57-c8068009bfd9</td>\n",
              "      <td>1</td>\n",
              "      <td>0</td>\n",
              "    </tr>\n",
              "    <tr>\n",
              "      <th>1</th>\n",
              "      <td>2018-07</td>\n",
              "      <td>1e62e0d2-a025-4e4a-9d57-c8068009bfd9</td>\n",
              "      <td>0</td>\n",
              "      <td>1</td>\n",
              "    </tr>\n",
              "    <tr>\n",
              "      <th>2</th>\n",
              "      <td>2018-08</td>\n",
              "      <td>1e62e0d2-a025-4e4a-9d57-c8068009bfd9</td>\n",
              "      <td>0</td>\n",
              "      <td>2</td>\n",
              "    </tr>\n",
              "    <tr>\n",
              "      <th>3</th>\n",
              "      <td>2018-09</td>\n",
              "      <td>1e62e0d2-a025-4e4a-9d57-c8068009bfd9</td>\n",
              "      <td>0</td>\n",
              "      <td>3</td>\n",
              "    </tr>\n",
              "    <tr>\n",
              "      <th>4</th>\n",
              "      <td>2018-10</td>\n",
              "      <td>1e62e0d2-a025-4e4a-9d57-c8068009bfd9</td>\n",
              "      <td>0</td>\n",
              "      <td>4</td>\n",
              "    </tr>\n",
              "    <tr>\n",
              "      <th>5</th>\n",
              "      <td>2018-11</td>\n",
              "      <td>1e62e0d2-a025-4e4a-9d57-c8068009bfd9</td>\n",
              "      <td>0</td>\n",
              "      <td>5</td>\n",
              "    </tr>\n",
              "    <tr>\n",
              "      <th>6</th>\n",
              "      <td>2018-12</td>\n",
              "      <td>1e62e0d2-a025-4e4a-9d57-c8068009bfd9</td>\n",
              "      <td>0</td>\n",
              "      <td>6</td>\n",
              "    </tr>\n",
              "    <tr>\n",
              "      <th>7</th>\n",
              "      <td>2019-01</td>\n",
              "      <td>1e62e0d2-a025-4e4a-9d57-c8068009bfd9</td>\n",
              "      <td>1</td>\n",
              "      <td>0</td>\n",
              "    </tr>\n",
              "    <tr>\n",
              "      <th>8</th>\n",
              "      <td>2019-02</td>\n",
              "      <td>1e62e0d2-a025-4e4a-9d57-c8068009bfd9</td>\n",
              "      <td>0</td>\n",
              "      <td>1</td>\n",
              "    </tr>\n",
              "    <tr>\n",
              "      <th>9</th>\n",
              "      <td>2019-03</td>\n",
              "      <td>1e62e0d2-a025-4e4a-9d57-c8068009bfd9</td>\n",
              "      <td>0</td>\n",
              "      <td>2</td>\n",
              "    </tr>\n",
              "  </tbody>\n",
              "</table>\n",
              "</div>"
            ],
            "text/plain": [
              "     month                                userid  is_paid  number_of_not_paid\n",
              "0  2018-06  1e62e0d2-a025-4e4a-9d57-c8068009bfd9        1                   0\n",
              "1  2018-07  1e62e0d2-a025-4e4a-9d57-c8068009bfd9        0                   1\n",
              "2  2018-08  1e62e0d2-a025-4e4a-9d57-c8068009bfd9        0                   2\n",
              "3  2018-09  1e62e0d2-a025-4e4a-9d57-c8068009bfd9        0                   3\n",
              "4  2018-10  1e62e0d2-a025-4e4a-9d57-c8068009bfd9        0                   4\n",
              "5  2018-11  1e62e0d2-a025-4e4a-9d57-c8068009bfd9        0                   5\n",
              "6  2018-12  1e62e0d2-a025-4e4a-9d57-c8068009bfd9        0                   6\n",
              "7  2019-01  1e62e0d2-a025-4e4a-9d57-c8068009bfd9        1                   0\n",
              "8  2019-02  1e62e0d2-a025-4e4a-9d57-c8068009bfd9        0                   1\n",
              "9  2019-03  1e62e0d2-a025-4e4a-9d57-c8068009bfd9        0                   2"
            ]
          },
          "metadata": {},
          "output_type": "display_data"
        }
      ],
      "source": [
        "query = f'''\n",
        "        SELECT    *\n",
        "        FROM      monthly_view\n",
        "        WHERE     userid = '{df.userid.value_counts(ascending=True).head(1).index[0]}'\n",
        "        '''\n",
        "\n",
        "display(my_psql.read(query).head(10))"
      ]
    },
    {
      "cell_type": "markdown",
      "id": "c8b4417a",
      "metadata": {
        "id": "c8b4417a"
      },
      "source": [
        "## 4) В пайтоне посчитать MRR для пользователей и вывести его график для топ10 пользователей с максимальными суммарными оплатами"
      ]
    },
    {
      "cell_type": "markdown",
      "id": "66d3682e",
      "metadata": {
        "id": "66d3682e"
      },
      "source": [
        "Декомпозируем условие задачи.\n",
        "\n",
        "> Monthly Recurring Revenue (MRR) is the predictable total revenue generated by your business from all the active subscriptions in a particular month. [[1](https://www.zoho.com/subscriptions/guides/what-is-monthly-recurring-revenue.html#:~:text=How%20to%20calculate%20MRR%3F,revenue%20per%20user%20(ARPU).&text=For%20subscriptions%20under%20annual%20plans,customers%20on%20the%20annual%20plan.)]\n",
        "\n",
        "Таким образом, чтобы корректно посчитать MRR нужно иметь три сущности:\n",
        "- вид (триал, обычная, премиум),\n",
        "- длительность (7 дней, 1 месяц, 12 месяцев),\n",
        "- стоимость подписки.\n",
        "\n",
        "Исходя из этого допустим, что все наши клиенты находятся на 1-месячной, невозобновляемой подписке, стоимость которой сильно вариативна и может составлять от 1 до 100 US$ в месяц.\n",
        "\n",
        "Для упрощения, также допустим, что подписка начинается 1-го и заканчивается последним числом месяца оплаты. Иначе нам было бы удобнее считать метрику по неделям.\n",
        "\n",
        "> Calculating MRR is simple. Just multiply the number of monthly subscribers by the average revenue per user (ARPU).\n",
        ">\n",
        "> **MRR = Number of subscribers under a monthly plan * ARPU**\n",
        "\n",
        "Таким образом, за число месячных подписчиков мы можем взять число уникальных пользователей совершивших оплату в каждом из месяцев.\n",
        "\n",
        "> ARPU is calculated by dividing the total revenue by the number of active customers.\n",
        ">\n",
        "> **Monthly ARPU = Total MRR (Monthly Recurring Revenue) / Number of active subscriptions** [[2](https://www.zoho.com/subscriptions/general-faq/metrics-and-kpis.html)]\n",
        "\n",
        "ARPU считается на основе количества активных подписчиков, то есть тех, кто платит деньги. В нашем датасете не встречаются триальные пользователи, поэтому будем считать, что каждый кто совершил оплату является активным подписчиком в этом месяце.\n",
        "\n",
        "Результируя всё выше сказанное, для поставленной задачи будем считать MRR как общий доход за месяц. Это был бы некорректно для реальных данных, но допустимо в рамках конкретной синтетической задачи, при условии что мы не подгоняем сгенерированные данные."
      ]
    },
    {
      "cell_type": "markdown",
      "id": "edd95c9a",
      "metadata": {
        "id": "edd95c9a"
      },
      "source": [
        "Посчитаем MRR для всех пользователей."
      ]
    },
    {
      "cell_type": "code",
      "execution_count": null,
      "id": "7daf700a",
      "metadata": {
        "id": "7daf700a",
        "outputId": "46b708fc-483c-465e-89c4-fffab34c52e8"
      },
      "outputs": [
        {
          "data": {
            "text/html": [
              "<div>\n",
              "<style scoped>\n",
              "    .dataframe tbody tr th:only-of-type {\n",
              "        vertical-align: middle;\n",
              "    }\n",
              "\n",
              "    .dataframe tbody tr th {\n",
              "        vertical-align: top;\n",
              "    }\n",
              "\n",
              "    .dataframe thead th {\n",
              "        text-align: right;\n",
              "    }\n",
              "</style>\n",
              "<table border=\"1\" class=\"dataframe\">\n",
              "  <thead>\n",
              "    <tr style=\"text-align: right;\">\n",
              "      <th></th>\n",
              "      <th>users_count</th>\n",
              "      <th>mrr</th>\n",
              "      <th>arpu_monthly</th>\n",
              "    </tr>\n",
              "    <tr>\n",
              "      <th>yr_month</th>\n",
              "      <th></th>\n",
              "      <th></th>\n",
              "      <th></th>\n",
              "    </tr>\n",
              "  </thead>\n",
              "  <tbody>\n",
              "    <tr>\n",
              "      <th>2017-10</th>\n",
              "      <td>22</td>\n",
              "      <td>1395</td>\n",
              "      <td>63.409091</td>\n",
              "    </tr>\n",
              "    <tr>\n",
              "      <th>2017-11</th>\n",
              "      <td>36</td>\n",
              "      <td>2313</td>\n",
              "      <td>64.250000</td>\n",
              "    </tr>\n",
              "    <tr>\n",
              "      <th>2017-12</th>\n",
              "      <td>35</td>\n",
              "      <td>2538</td>\n",
              "      <td>72.514286</td>\n",
              "    </tr>\n",
              "    <tr>\n",
              "      <th>2018-01</th>\n",
              "      <td>34</td>\n",
              "      <td>2131</td>\n",
              "      <td>62.676471</td>\n",
              "    </tr>\n",
              "    <tr>\n",
              "      <th>2018-02</th>\n",
              "      <td>29</td>\n",
              "      <td>2343</td>\n",
              "      <td>80.793103</td>\n",
              "    </tr>\n",
              "    <tr>\n",
              "      <th>...</th>\n",
              "      <td>...</td>\n",
              "      <td>...</td>\n",
              "      <td>...</td>\n",
              "    </tr>\n",
              "    <tr>\n",
              "      <th>2022-06</th>\n",
              "      <td>30</td>\n",
              "      <td>2058</td>\n",
              "      <td>68.600000</td>\n",
              "    </tr>\n",
              "    <tr>\n",
              "      <th>2022-07</th>\n",
              "      <td>43</td>\n",
              "      <td>2238</td>\n",
              "      <td>52.046512</td>\n",
              "    </tr>\n",
              "    <tr>\n",
              "      <th>2022-08</th>\n",
              "      <td>27</td>\n",
              "      <td>1732</td>\n",
              "      <td>64.148148</td>\n",
              "    </tr>\n",
              "    <tr>\n",
              "      <th>2022-09</th>\n",
              "      <td>38</td>\n",
              "      <td>2225</td>\n",
              "      <td>58.552632</td>\n",
              "    </tr>\n",
              "    <tr>\n",
              "      <th>2022-10</th>\n",
              "      <td>22</td>\n",
              "      <td>1414</td>\n",
              "      <td>64.272727</td>\n",
              "    </tr>\n",
              "  </tbody>\n",
              "</table>\n",
              "<p>61 rows × 3 columns</p>\n",
              "</div>"
            ],
            "text/plain": [
              "          users_count   mrr  arpu_monthly\n",
              "yr_month                                 \n",
              "2017-10            22  1395     63.409091\n",
              "2017-11            36  2313     64.250000\n",
              "2017-12            35  2538     72.514286\n",
              "2018-01            34  2131     62.676471\n",
              "2018-02            29  2343     80.793103\n",
              "...               ...   ...           ...\n",
              "2022-06            30  2058     68.600000\n",
              "2022-07            43  2238     52.046512\n",
              "2022-08            27  1732     64.148148\n",
              "2022-09            38  2225     58.552632\n",
              "2022-10            22  1414     64.272727\n",
              "\n",
              "[61 rows x 3 columns]"
            ]
          },
          "metadata": {},
          "output_type": "display_data"
        }
      ],
      "source": [
        "mrr = df.groupby('yr_month').agg({'userid': lambda x: len(set(x)), 'payment_amount': 'sum'})\n",
        "\n",
        "mrr.columns = ['users_count', 'mrr']\n",
        "mrr['arpu_monthly'] = mrr.mrr / mrr.users_count\n",
        "\n",
        "display(mrr)"
      ]
    },
    {
      "cell_type": "markdown",
      "id": "07b31417",
      "metadata": {
        "id": "07b31417"
      },
      "source": [
        "Найдём топ-10 пользователей с максимальными суммарными оплатами."
      ]
    },
    {
      "cell_type": "code",
      "execution_count": null,
      "id": "f20471cb",
      "metadata": {
        "id": "f20471cb"
      },
      "outputs": [],
      "source": [
        "top10 = df.groupby('userid').payment_amount.sum().sort_values(ascending=False).head(10).index"
      ]
    },
    {
      "cell_type": "markdown",
      "id": "ff6d1f7a",
      "metadata": {
        "id": "ff6d1f7a"
      },
      "source": [
        "Посчитаем MRR для них."
      ]
    },
    {
      "cell_type": "code",
      "execution_count": null,
      "id": "9b371984",
      "metadata": {
        "id": "9b371984",
        "outputId": "c6109eea-6bea-4862-8571-8228784c4726"
      },
      "outputs": [
        {
          "data": {
            "text/html": [
              "<div>\n",
              "<style scoped>\n",
              "    .dataframe tbody tr th:only-of-type {\n",
              "        vertical-align: middle;\n",
              "    }\n",
              "\n",
              "    .dataframe tbody tr th {\n",
              "        vertical-align: top;\n",
              "    }\n",
              "\n",
              "    .dataframe thead th {\n",
              "        text-align: right;\n",
              "    }\n",
              "</style>\n",
              "<table border=\"1\" class=\"dataframe\">\n",
              "  <thead>\n",
              "    <tr style=\"text-align: right;\">\n",
              "      <th></th>\n",
              "      <th>users_count</th>\n",
              "      <th>mrr</th>\n",
              "      <th>arpu_monthly</th>\n",
              "    </tr>\n",
              "    <tr>\n",
              "      <th>yr_month</th>\n",
              "      <th></th>\n",
              "      <th></th>\n",
              "      <th></th>\n",
              "    </tr>\n",
              "  </thead>\n",
              "  <tbody>\n",
              "    <tr>\n",
              "      <th>2017-10</th>\n",
              "      <td>4</td>\n",
              "      <td>231</td>\n",
              "      <td>57.750000</td>\n",
              "    </tr>\n",
              "    <tr>\n",
              "      <th>2017-11</th>\n",
              "      <td>5</td>\n",
              "      <td>326</td>\n",
              "      <td>65.200000</td>\n",
              "    </tr>\n",
              "    <tr>\n",
              "      <th>2017-12</th>\n",
              "      <td>8</td>\n",
              "      <td>585</td>\n",
              "      <td>73.125000</td>\n",
              "    </tr>\n",
              "    <tr>\n",
              "      <th>2018-01</th>\n",
              "      <td>5</td>\n",
              "      <td>442</td>\n",
              "      <td>88.400000</td>\n",
              "    </tr>\n",
              "    <tr>\n",
              "      <th>2018-02</th>\n",
              "      <td>7</td>\n",
              "      <td>490</td>\n",
              "      <td>70.000000</td>\n",
              "    </tr>\n",
              "    <tr>\n",
              "      <th>...</th>\n",
              "      <td>...</td>\n",
              "      <td>...</td>\n",
              "      <td>...</td>\n",
              "    </tr>\n",
              "    <tr>\n",
              "      <th>2022-06</th>\n",
              "      <td>4</td>\n",
              "      <td>317</td>\n",
              "      <td>79.250000</td>\n",
              "    </tr>\n",
              "    <tr>\n",
              "      <th>2022-07</th>\n",
              "      <td>7</td>\n",
              "      <td>448</td>\n",
              "      <td>64.000000</td>\n",
              "    </tr>\n",
              "    <tr>\n",
              "      <th>2022-08</th>\n",
              "      <td>4</td>\n",
              "      <td>363</td>\n",
              "      <td>90.750000</td>\n",
              "    </tr>\n",
              "    <tr>\n",
              "      <th>2022-09</th>\n",
              "      <td>7</td>\n",
              "      <td>589</td>\n",
              "      <td>84.142857</td>\n",
              "    </tr>\n",
              "    <tr>\n",
              "      <th>2022-10</th>\n",
              "      <td>3</td>\n",
              "      <td>363</td>\n",
              "      <td>121.000000</td>\n",
              "    </tr>\n",
              "  </tbody>\n",
              "</table>\n",
              "<p>61 rows × 3 columns</p>\n",
              "</div>"
            ],
            "text/plain": [
              "          users_count  mrr  arpu_monthly\n",
              "yr_month                                \n",
              "2017-10             4  231     57.750000\n",
              "2017-11             5  326     65.200000\n",
              "2017-12             8  585     73.125000\n",
              "2018-01             5  442     88.400000\n",
              "2018-02             7  490     70.000000\n",
              "...               ...  ...           ...\n",
              "2022-06             4  317     79.250000\n",
              "2022-07             7  448     64.000000\n",
              "2022-08             4  363     90.750000\n",
              "2022-09             7  589     84.142857\n",
              "2022-10             3  363    121.000000\n",
              "\n",
              "[61 rows x 3 columns]"
            ]
          },
          "metadata": {},
          "output_type": "display_data"
        }
      ],
      "source": [
        "mrr_top10 = df[df.userid.isin(top10)].groupby('yr_month').agg({'userid': lambda x: len(set(x)), 'payment_amount': 'sum'})\n",
        "\n",
        "mrr_top10.columns = ['users_count', 'mrr']\n",
        "mrr_top10['arpu_monthly'] = mrr_top10.mrr / mrr_top10.users_count\n",
        "\n",
        "display(mrr_top10)\n",
        "mrr_top10 = mrr_top10.reset_index()"
      ]
    },
    {
      "cell_type": "markdown",
      "id": "7cf8f879",
      "metadata": {
        "id": "7cf8f879"
      },
      "source": [
        "Нарисуем график."
      ]
    },
    {
      "cell_type": "code",
      "execution_count": null,
      "id": "699880b3",
      "metadata": {
        "scrolled": false,
        "id": "699880b3",
        "outputId": "5247dd0b-68b6-40fb-bfa0-3af2902d57a8"
      },
      "outputs": [
        {
          "data": {
            "image/png": "[encoded data removed]",
            "text/plain": [
              "<Figure size 1152x360 with 1 Axes>"
            ]
          },
          "metadata": {},
          "output_type": "display_data"
        }
      ],
      "source": [
        "# Вспомогательные данные\n",
        "extremes = mrr_top10.sort_values(by='mrr', ascending=False)\n",
        "peak_value = mrr_top10[mrr_top10.mrr==mrr_top10.mrr.max()].yr_month.values[0]\n",
        "mrr_top10['moving_average_mrr'] = mrr_top10.mrr.rolling(window=6).mean()\n",
        "\n",
        "# Графики\n",
        "plt.figure(figsize=(16, 5))\n",
        "sns.lineplot(data=mrr_top10, x=\"yr_month\", y=\"mrr\", label='Actual MRR')\n",
        "sns.lineplot(data=mrr_top10, x=\"yr_month\", y=\"moving_average_mrr\", label='6 MO Moving average')\n",
        "\n",
        "# Значения на экстремумах\n",
        "for _, value in pd.concat([extremes.head(5), extremes.tail(5)]).iterrows():\n",
        "    plt.text(\n",
        "        x=value.yr_month, y=value.mrr, s=value.mrr,\n",
        "        ha='center', va='center', fontsize=12, color='white', weight='bold',\n",
        "        bbox=dict(facecolor='teal', alpha=0.75)\n",
        "    )\n",
        "\n",
        "# Оформление\n",
        "plt.title('Monthly Recurring Revenue for top 10 users', size='xx-large')\n",
        "plt.xlabel('year-month', size='x-large')\n",
        "plt.ylabel('revenue in US$', size='x-large')\n",
        "plt.legend(fontsize=12)\n",
        "plt.axvline(x=peak_value, color='orange', linestyle='--')\n",
        "plt.xticks(rotation=90)\n",
        "plt.show()"
      ]
    },
    {
      "cell_type": "markdown",
      "id": "79ddef8c",
      "metadata": {
        "id": "79ddef8c"
      },
      "source": [
        "## 5) Сохранить данные в файл и построить схожую визуализацию в табло. Дополнительные визуализации приветствуются."
      ]
    },
    {
      "cell_type": "markdown",
      "id": "70d7c776",
      "metadata": {
        "id": "70d7c776"
      },
      "source": [
        "Сохраним данные в файл."
      ]
    },
    {
      "cell_type": "code",
      "execution_count": null,
      "id": "7d94de81",
      "metadata": {
        "id": "7d94de81"
      },
      "outputs": [],
      "source": [
        "mrr_top10.to_csv('mrr_top10.csv', index=False)"
      ]
    },
    {
      "cell_type": "markdown",
      "id": "e4bd7c0d",
      "metadata": {
        "id": "e4bd7c0d"
      },
      "source": [
        "[Ссылка на визуализацию в Tableau](https://public.tableau.com/views/test_task_16659550741370/Revenue?:language=en-US&:display_count=n&:origin=viz_share_link)"
      ]
    },
    {
      "cell_type": "markdown",
      "id": "54a10cb1",
      "metadata": {
        "id": "54a10cb1"
      },
      "source": [
        "Спасибо за внимание!"
      ]
    }
  ],
  "metadata": {
    "kernelspec": {
      "display_name": "Python 3",
      "language": "python",
      "name": "python3"
    },
    "language_info": {
      "codemirror_mode": {
        "name": "ipython",
        "version": 3
      },
      "file_extension": ".py",
      "mimetype": "text/x-python",
      "name": "python",
      "nbconvert_exporter": "python",
      "pygments_lexer": "ipython3",
      "version": "3.8.8"
    },
    "colab": {
      "provenance": []
    }
  },
  "nbformat": 4,
  "nbformat_minor": 5
}